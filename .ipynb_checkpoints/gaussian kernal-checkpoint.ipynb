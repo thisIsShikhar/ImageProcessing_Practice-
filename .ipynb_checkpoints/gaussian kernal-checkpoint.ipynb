{
 "cells": [
  {
   "cell_type": "raw",
   "metadata": {},
   "source": []
  },
  {
   "cell_type": "code",
   "execution_count": 1,
   "metadata": {},
   "outputs": [],
   "source": [
    "import numpy\n",
    "from matplotlib import pyplot as plt"
   ]
  },
  {
   "cell_type": "code",
   "execution_count": 7,
   "metadata": {},
   "outputs": [],
   "source": [
    "def gaussian_kernel(size, size_y=None):\n",
    "    size=int(size)\n",
    "    if not size_y:\n",
    "        size_y = size\n",
    "    else:\n",
    "        size_y=int(size_y)\n",
    "    x,y = numpy.mgrid[-size:size+1, -size_y:size_y+1]\n",
    "    g=numpy.exp(-(x**2/float(size)+y**2/float(size_y)))\n",
    "    return g/g.sum()"
   ]
  },
  {
   "cell_type": "code",
   "execution_count": 10,
   "metadata": {},
   "outputs": [
    {
     "name": "stdout",
     "output_type": "stream",
     "text": [
      "[[0.04491922 0.12210311 0.04491922]\n",
      " [0.12210311 0.33191066 0.12210311]\n",
      " [0.04491922 0.12210311 0.04491922]]\n"
     ]
    },
    {
     "data": {
      "image/png": "[encoded data removed]",
      "text/plain": [
       "<Figure size 432x288 with 2 Axes>"
      ]
     },
     "metadata": {
      "needs_background": "light"
     },
     "output_type": "display_data"
    }
   ],
   "source": [
    "gaussian_kernel_array=gaussian_kernel(1)\n",
    "print(gaussian_kernel_array)\n",
    "plt.imshow(gaussian_kernel_array,cmap=plt.get_cmap('jet'),interpolation='nearest')\n",
    "plt.colorbar()\n",
    "plt.show()\n"
   ]
  },
  {
   "cell_type": "code",
   "execution_count": null,
   "metadata": {},
   "outputs": [],
   "source": []
  }
 ],
 "metadata": {
  "kernelspec": {
   "display_name": "Python 3",
   "language": "python",
   "name": "python3"
  },
  "language_info": {
   "codemirror_mode": {
    "name": "ipython",
    "version": 3
   },
   "file_extension": ".py",
   "mimetype": "text/x-python",
   "name": "python",
   "nbconvert_exporter": "python",
   "pygments_lexer": "ipython3",
   "version": "3.7.4"
  }
 },
 "nbformat": 4,
 "nbformat_minor": 4
}
