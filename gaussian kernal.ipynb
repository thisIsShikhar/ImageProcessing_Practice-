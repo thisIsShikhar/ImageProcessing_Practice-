{
 "cells": [
  {
   "cell_type": "code",
   "execution_count": 1,
   "metadata": {},
   "outputs": [],
   "source": [
    "import numpy\n",
    "from matplotlib import pyplot as plt"
   ]
  },
  {
   "cell_type": "code",
   "execution_count": 7,
   "metadata": {},
   "outputs": [],
   "source": [
    "def gaussian_kernel(size, size_y=None):\n",
    "    size=int(size)\n",
    "    if not size_y:\n",
    "        size_y = size\n",
    "    else:\n",
    "        size_y=int(size_y)\n",
    "    x,y = numpy.mgrid[-size:size+1, -size_y:size_y+1]\n",
    "    g=numpy.exp(-(x**2/float(size)+y**2/float(size_y)))\n",
    "    return g/g.sum()"
   ]
  },
  {
   "cell_type": "code",
   "execution_count": 11,
   "metadata": {},
   "outputs": [
    {
     "name": "stdout",
     "output_type": "stream",
     "text": [
      "[[2.89259859e-06 1.74992017e-05 7.09627623e-05 1.92896787e-04\n",
      "  3.51480863e-04 4.29299695e-04 3.51480863e-04 1.92896787e-04\n",
      "  7.09627623e-05 1.74992017e-05 2.89259859e-06]\n",
      " [1.74992017e-05 1.05864001e-04 4.29299695e-04 1.16695756e-03\n",
      "  2.12633531e-03 2.59711181e-03 2.12633531e-03 1.16695756e-03\n",
      "  4.29299695e-04 1.05864001e-04 1.74992017e-05]\n",
      " [7.09627623e-05 4.29299695e-04 1.74089611e-03 4.73224626e-03\n",
      "  8.62271488e-03 1.05318077e-02 8.62271488e-03 4.73224626e-03\n",
      "  1.74089611e-03 4.29299695e-04 7.09627623e-05]\n",
      " [1.92896787e-04 1.16695756e-03 4.73224626e-03 1.28635790e-02\n",
      "  2.34389692e-02 2.86284216e-02 2.34389692e-02 1.28635790e-02\n",
      "  4.73224626e-03 1.16695756e-03 1.92896787e-04]\n",
      " [3.51480863e-04 2.12633531e-03 8.62271488e-03 2.34389692e-02\n",
      "  4.27085864e-02 5.21643852e-02 4.27085864e-02 2.34389692e-02\n",
      "  8.62271488e-03 2.12633531e-03 3.51480863e-04]\n",
      " [4.29299695e-04 2.59711181e-03 1.05318077e-02 2.86284216e-02\n",
      "  5.21643852e-02 6.37137239e-02 5.21643852e-02 2.86284216e-02\n",
      "  1.05318077e-02 2.59711181e-03 4.29299695e-04]\n",
      " [3.51480863e-04 2.12633531e-03 8.62271488e-03 2.34389692e-02\n",
      "  4.27085864e-02 5.21643852e-02 4.27085864e-02 2.34389692e-02\n",
      "  8.62271488e-03 2.12633531e-03 3.51480863e-04]\n",
      " [1.92896787e-04 1.16695756e-03 4.73224626e-03 1.28635790e-02\n",
      "  2.34389692e-02 2.86284216e-02 2.34389692e-02 1.28635790e-02\n",
      "  4.73224626e-03 1.16695756e-03 1.92896787e-04]\n",
      " [7.09627623e-05 4.29299695e-04 1.74089611e-03 4.73224626e-03\n",
      "  8.62271488e-03 1.05318077e-02 8.62271488e-03 4.73224626e-03\n",
      "  1.74089611e-03 4.29299695e-04 7.09627623e-05]\n",
      " [1.74992017e-05 1.05864001e-04 4.29299695e-04 1.16695756e-03\n",
      "  2.12633531e-03 2.59711181e-03 2.12633531e-03 1.16695756e-03\n",
      "  4.29299695e-04 1.05864001e-04 1.74992017e-05]\n",
      " [2.89259859e-06 1.74992017e-05 7.09627623e-05 1.92896787e-04\n",
      "  3.51480863e-04 4.29299695e-04 3.51480863e-04 1.92896787e-04\n",
      "  7.09627623e-05 1.74992017e-05 2.89259859e-06]]\n"
     ]
    },
    {
     "data": {
      "image/png": "[encoded data removed]",
      "text/plain": [
       "<Figure size 432x288 with 2 Axes>"
      ]
     },
     "metadata": {
      "needs_background": "light"
     },
     "output_type": "display_data"
    }
   ],
   "source": [
    "gaussian_kernel_array=gaussian_kernel(5)\n",
    "print(gaussian_kernel_array)\n",
    "plt.imshow(gaussian_kernel_array,cmap=plt.get_cmap('jet'),interpolation='nearest')\n",
    "plt.colorbar()\n",
    "plt.show()\n"
   ]
  },
  {
   "cell_type": "code",
   "execution_count": null,
   "metadata": {},
   "outputs": [],
   "source": []
  }
 ],
 "metadata": {
  "kernelspec": {
   "display_name": "Python 3",
   "language": "python",
   "name": "python3"
  },
  "language_info": {
   "codemirror_mode": {
    "name": "ipython",
    "version": 3
   },
   "file_extension": ".py",
   "mimetype": "text/x-python",
   "name": "python",
   "nbconvert_exporter": "python",
   "pygments_lexer": "ipython3",
   "version": "3.7.4"
  }
 },
 "nbformat": 4,
 "nbformat_minor": 4
}
