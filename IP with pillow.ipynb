{
 "cells": [
  {
   "cell_type": "code",
   "execution_count": 1,
   "metadata": {},
   "outputs": [],
   "source": [
    "from PIL import Image"
   ]
  },
  {
   "cell_type": "code",
   "execution_count": 2,
   "metadata": {},
   "outputs": [],
   "source": [
    "img=Image.open(\"/home/shikhar/Desktop/git_workspace/ImageProcessing_Practice-/random-pixels-big.png\")"
   ]
  },
  {
   "cell_type": "code",
   "execution_count": 5,
   "metadata": {},
   "outputs": [
    {
     "name": "stdout",
     "output_type": "stream",
     "text": [
      "<class 'PIL.PngImagePlugin.PngImageFile'>\n"
     ]
    }
   ],
   "source": [
    "print(type(img))"
   ]
  },
  {
   "cell_type": "code",
   "execution_count": 6,
   "metadata": {},
   "outputs": [
    {
     "name": "stdout",
     "output_type": "stream",
     "text": [
      "PNG\n"
     ]
    }
   ],
   "source": [
    "print(img.format)"
   ]
  },
  {
   "cell_type": "code",
   "execution_count": 7,
   "metadata": {},
   "outputs": [
    {
     "name": "stdout",
     "output_type": "stream",
     "text": [
      "RGB\n"
     ]
    }
   ],
   "source": [
    "print(img.mode)"
   ]
  },
  {
   "cell_type": "code",
   "execution_count": 22,
   "metadata": {},
   "outputs": [
    {
     "name": "stdout",
     "output_type": "stream",
     "text": [
      "(200, 133)\n"
     ]
    }
   ],
   "source": [
    "print(img.size)"
   ]
  },
  {
   "cell_type": "markdown",
   "metadata": {},
   "source": [
    "resizing images"
   ]
  },
  {
   "cell_type": "code",
   "execution_count": 10,
   "metadata": {},
   "outputs": [],
   "source": [
    "imgs=img.resize((300,300)) #this doesn't maintain the original ratio"
   ]
  },
  {
   "cell_type": "code",
   "execution_count": 11,
   "metadata": {},
   "outputs": [
    {
     "name": "stdout",
     "output_type": "stream",
     "text": [
      "(300, 300)\n"
     ]
    }
   ],
   "source": [
    "print(imgs.size)"
   ]
  },
  {
   "cell_type": "code",
   "execution_count": 12,
   "metadata": {},
   "outputs": [],
   "source": [
    "imgs.save(\"/home/shikhar/Desktop/git_workspace/ImageProcessing_Practice-/resized with pillow.png\")"
   ]
  },
  {
   "cell_type": "code",
   "execution_count": 16,
   "metadata": {},
   "outputs": [],
   "source": [
    "img.thumbnail((200,300)) #this reasizes with maintaining the original ratio"
   ]
  },
  {
   "cell_type": "code",
   "execution_count": 15,
   "metadata": {},
   "outputs": [],
   "source": [
    "img.save(\"/home/shikhar/Desktop/git_workspace/ImageProcessing_Practice-/resized with pillow2.png\")"
   ]
  },
  {
   "cell_type": "code",
   "execution_count": 21,
   "metadata": {},
   "outputs": [
    {
     "name": "stdout",
     "output_type": "stream",
     "text": [
      "(200, 133)\n"
     ]
    }
   ],
   "source": [
    "print(img.size)"
   ]
  },
  {
   "cell_type": "markdown",
   "metadata": {},
   "source": [
    "cropping images"
   ]
  },
  {
   "cell_type": "code",
   "execution_count": 18,
   "metadata": {},
   "outputs": [],
   "source": [
    "crop_img=img.crop((0,0,100,100))"
   ]
  },
  {
   "cell_type": "code",
   "execution_count": 20,
   "metadata": {},
   "outputs": [],
   "source": [
    "crop_img.save(\"/home/shikhar/Desktop/git_workspace/ImageProcessing_Practice-/cropped with pillow.png\")"
   ]
  },
  {
   "cell_type": "markdown",
   "metadata": {},
   "source": [
    "copying pictures and pasting over another"
   ]
  },
  {
   "cell_type": "code",
   "execution_count": 80,
   "metadata": {},
   "outputs": [],
   "source": [
    "img1=Image.open(\"/home/shikhar/Desktop/git_workspace/ImageProcessing_Practice-/HSTUMUN2.1.png\")\n",
    "img2=Image.open(\"/home/shikhar/Desktop/git_workspace/ImageProcessing_Practice-/image folder/1.jpg\")"
   ]
  },
  {
   "cell_type": "code",
   "execution_count": 81,
   "metadata": {},
   "outputs": [
    {
     "name": "stdout",
     "output_type": "stream",
     "text": [
      "(300, 200)\n"
     ]
    }
   ],
   "source": [
    "print(img2.size)"
   ]
  },
  {
   "cell_type": "code",
   "execution_count": 82,
   "metadata": {},
   "outputs": [
    {
     "name": "stdout",
     "output_type": "stream",
     "text": [
      "(4232, 3912)\n"
     ]
    }
   ],
   "source": [
    "print(img1.size)\n",
    "img1.thumbnail((100,100))\n",
    "img1.save(\"/home/shikhar/Desktop/git_workspace/ImageProcessing_Practice-/resized logo.png\")"
   ]
  },
  {
   "cell_type": "code",
   "execution_count": 83,
   "metadata": {},
   "outputs": [],
   "source": [
    "\n",
    "img2.paste(img1,(190,90))"
   ]
  },
  {
   "cell_type": "code",
   "execution_count": 84,
   "metadata": {},
   "outputs": [],
   "source": [
    "img2.save(\"/home/shikhar/Desktop/git_workspace/ImageProcessing_Practice-/pasted with pillow.png\")"
   ]
  },
  {
   "cell_type": "markdown",
   "metadata": {},
   "source": [
    "Image rotating"
   ]
  },
  {
   "cell_type": "code",
   "execution_count": 88,
   "metadata": {},
   "outputs": [],
   "source": [
    "image=Image.open(\"/home/shikhar/Desktop/git_workspace/ImageProcessing_Practice-/image folder/1.jpg\")"
   ]
  },
  {
   "cell_type": "code",
   "execution_count": 89,
   "metadata": {},
   "outputs": [],
   "source": [
    "image90=image.rotate(90)"
   ]
  },
  {
   "cell_type": "code",
   "execution_count": 90,
   "metadata": {},
   "outputs": [],
   "source": [
    "image90.save(\"/home/shikhar/Desktop/git_workspace/ImageProcessing_Practice-/rotated with pillow.png\")"
   ]
  },
  {
   "cell_type": "markdown",
   "metadata": {},
   "source": [
    "flipping image"
   ]
  },
  {
   "cell_type": "code",
   "execution_count": 91,
   "metadata": {},
   "outputs": [],
   "source": [
    "img=Image.open(\"/home/shikhar/Desktop/git_workspace/ImageProcessing_Practice-/image folder/1.jpg\")\n",
    "img_flipLR=img.transpose(Image.FLIP_LEFT_RIGHT)\n",
    "img_flipLR.save(\"/home/shikhar/Desktop/git_workspace/ImageProcessing_Practice-/processed images/flipped with pillow LR.png\")"
   ]
  },
  {
   "cell_type": "code",
   "execution_count": 92,
   "metadata": {},
   "outputs": [],
   "source": [
    "img_flipTB=img.transpose(Image.FLIP_TOP_BOTTOM)\n",
    "img_flipTB.save(\"/home/shikhar/Desktop/git_workspace/ImageProcessing_Practice-/processed images/flipped with pillow TB.png\")"
   ]
  },
  {
   "cell_type": "markdown",
   "metadata": {},
   "source": [
    "color converter"
   ]
  },
  {
   "cell_type": "code",
   "execution_count": 93,
   "metadata": {},
   "outputs": [],
   "source": [
    "grey_img=img.convert(\"L\")"
   ]
  },
  {
   "cell_type": "code",
   "execution_count": 94,
   "metadata": {},
   "outputs": [],
   "source": [
    "grey_img.save(\"/home/shikhar/Desktop/git_workspace/ImageProcessing_Practice-/processed images/converted to grey with pillow TB.png\")"
   ]
  },
  {
   "cell_type": "markdown",
   "metadata": {},
   "source": [
    "dealing with multiple files"
   ]
  },
  {
   "cell_type": "code",
   "execution_count": 95,
   "metadata": {},
   "outputs": [],
   "source": [
    "from PIL import Image\n",
    "import glob"
   ]
  },
  {
   "cell_type": "code",
   "execution_count": 96,
   "metadata": {},
   "outputs": [],
   "source": [
    "path=\"/home/shikhar/Desktop/git_workspace/ImageProcessing_Practice-/image folder/*\""
   ]
  },
  {
   "cell_type": "code",
   "execution_count": 99,
   "metadata": {},
   "outputs": [
    {
     "name": "stdout",
     "output_type": "stream",
     "text": [
      "/home/shikhar/Desktop/git_workspace/ImageProcessing_Practice-/image folder/2.jpg\n",
      "/home/shikhar/Desktop/git_workspace/ImageProcessing_Practice-/image folder/3.jpg\n",
      "/home/shikhar/Desktop/git_workspace/ImageProcessing_Practice-/image folder/1.jpg\n",
      "/home/shikhar/Desktop/git_workspace/ImageProcessing_Practice-/image folder/4.jpg\n"
     ]
    }
   ],
   "source": [
    "for file in glob.glob(path):\n",
    "    print(file)\n",
    "    a=Image.open(file)\n",
    "    rot=a.convert(\"L\")\n",
    "    rot.save(file + \"grey.png\")"
   ]
  }
 ],
 "metadata": {
  "kernelspec": {
   "display_name": "Python 3",
   "language": "python",
   "name": "python3"
  },
  "language_info": {
   "codemirror_mode": {
    "name": "ipython",
    "version": 3
   },
   "file_extension": ".py",
   "mimetype": "text/x-python",
   "name": "python",
   "nbconvert_exporter": "python",
   "pygments_lexer": "ipython3",
   "version": "3.7.4"
  }
 },
 "nbformat": 4,
 "nbformat_minor": 4
}
