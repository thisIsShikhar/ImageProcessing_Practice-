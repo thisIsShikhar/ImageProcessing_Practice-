{
 "cells": [
  {
   "cell_type": "code",
   "execution_count": 45,
   "metadata": {},
   "outputs": [],
   "source": [
    "from skimage.filters.rank import entropy\n",
    "from skimage.morphology import disk \n",
    "from skimage import io\n",
    "import matplotlib.pyplot as plt\n",
    "import numpy as np \n",
    "from skimage.filters import threshold_otsu\n",
    "import glob"
   ]
  },
  {
   "cell_type": "code",
   "execution_count": 46,
   "metadata": {},
   "outputs": [],
   "source": [
    "time =0\n",
    "time_list=[]\n",
    "area_list=[]\n",
    "path= \"/home/shikhar/Desktop/git_workspace/ImageProcessing_Practice-/scratch_assay/*\""
   ]
  },
  {
   "cell_type": "code",
   "execution_count": 47,
   "metadata": {},
   "outputs": [
    {
     "data": {
      "text/plain": [
       "[<matplotlib.lines.Line2D at 0x7f74b227ad10>]"
      ]
     },
     "execution_count": 47,
     "metadata": {},
     "output_type": "execute_result"
    },
    {
     "data": {
      "image/png": "[encoded data removed]",
      "text/plain": [
       "<Figure size 432x288 with 1 Axes>"
      ]
     },
     "metadata": {
      "needs_background": "light"
     },
     "output_type": "display_data"
    }
   ],
   "source": [
    "for file in glob.glob(path):\n",
    "    img=io.imread(file)\n",
    "    entropy_image=entropy(img,disk(3))\n",
    "    otsu=threshold_otsu(entropy_image)\n",
    "    binary=entropy_image <= otsu\n",
    "    scratch_area = np.sum(binary==True)\n",
    "#     print(time,scratch_area)\n",
    "    time_list.append(time)\n",
    "    area_list.append(scratch_area)\n",
    "    time += 1\n",
    "    \n",
    "plt.plot(time_list, area_list, 'bo')    \n",
    "# print(time_list, area_list)\n",
    "#     plt.imshow(binary, cmap=\"gray\")"
   ]
  },
  {
   "cell_type": "code",
   "execution_count": 48,
   "metadata": {},
   "outputs": [],
   "source": [
    "from scipy.stats import linregress"
   ]
  },
  {
   "cell_type": "code",
   "execution_count": 49,
   "metadata": {},
   "outputs": [
    {
     "name": "stdout",
     "output_type": "stream",
     "text": [
      "LinregressResult(slope=1002.4969696969697, intercept=14323.963636363638, rvalue=0.3914800141751, pvalue=0.26325271649489795, stderr=833.113917075336)\n"
     ]
    }
   ],
   "source": [
    "print(linregress(time_list,area_list))"
   ]
  }
 ],
 "metadata": {
  "kernelspec": {
   "display_name": "Python 3",
   "language": "python",
   "name": "python3"
  },
  "language_info": {
   "codemirror_mode": {
    "name": "ipython",
    "version": 3
   },
   "file_extension": ".py",
   "mimetype": "text/x-python",
   "name": "python",
   "nbconvert_exporter": "python",
   "pygments_lexer": "ipython3",
   "version": "3.8.3"
  }
 },
 "nbformat": 4,
 "nbformat_minor": 4
}
